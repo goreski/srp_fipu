{
 "cells": [
  {
   "cell_type": "code",
   "execution_count": null,
   "metadata": {},
   "outputs": [],
   "source": [
    "print(\"Hello World\")"
   ]
  },
  {
   "cell_type": "code",
   "execution_count": 10,
   "metadata": {},
   "outputs": [
    {
     "name": "stdout",
     "output_type": "stream",
     "text": [
      "  Retailer country Order method type Retailer type          Product line  \\\n",
      "0           Canada               Web  Sports Store  Personal Accessories   \n",
      "1           Canada               Web  Sports Store  Personal Accessories   \n",
      "2           Canada               Web  Sports Store  Personal Accessories   \n",
      "3           Canada               Web  Sports Store  Personal Accessories   \n",
      "4           Canada               Web  Sports Store  Personal Accessories   \n",
      "\n",
      "  Product type         Product  Year  Quarter   Revenue  Quantity  \\\n",
      "0   Binoculars   Ranger Vision  2012  Q2 2012  11520.00        72   \n",
      "1   Navigation   Glacier Basic  2012  Q2 2012  13918.38       434   \n",
      "2   Navigation  Glacier Deluxe  2012  Q2 2012   8249.15        91   \n",
      "3   Navigation     Glacier GPS  2012  Q2 2012  20080.59       183   \n",
      "4   Navigation    Trail Master  2012  Q2 2012   1460.00         4   \n",
      "\n",
      "   Gross margin  \n",
      "0      0.537500  \n",
      "1      0.376364  \n",
      "2      0.379702  \n",
      "3      0.284152  \n",
      "4      0.350822  \n"
     ]
    }
   ],
   "source": [
    "import pandas as pd\n",
    "\n",
    "url = r\"C:\\Users\\goran\\Google Drive\\UniPu\\~ Sustavi poslovne inteligencije\\2018-19\\Case study\\Pentaho\\WA_Sales_Products_2012-14.csv\"\n",
    "\n",
    "data = pd.read_csv(url, delimiter=',')\n",
    "\n",
    "print(data.head())"
   ]
  },
  {
   "cell_type": "code",
   "execution_count": 11,
   "metadata": {},
   "outputs": [
    {
     "name": "stdout",
     "output_type": "stream",
     "text": [
      "(78475, 11)\n"
     ]
    }
   ],
   "source": [
    "print(data.shape)"
   ]
  },
  {
   "cell_type": "code",
   "execution_count": 12,
   "metadata": {},
   "outputs": [
    {
     "name": "stdout",
     "output_type": "stream",
     "text": [
      "Retailer country       0\n",
      "Order method type      0\n",
      "Retailer type          0\n",
      "Product line           0\n",
      "Product type           0\n",
      "Product                0\n",
      "Year                   0\n",
      "Quarter                0\n",
      "Revenue                0\n",
      "Quantity               0\n",
      "Gross margin         544\n",
      "dtype: int64\n"
     ]
    }
   ],
   "source": [
    "print(data.isna().sum())"
   ]
  },
  {
   "cell_type": "code",
   "execution_count": 13,
   "metadata": {},
   "outputs": [
    {
     "name": "stdout",
     "output_type": "stream",
     "text": [
      "Retailer country        21\n",
      "Order method type        7\n",
      "Retailer type            8\n",
      "Product line             5\n",
      "Product type            21\n",
      "Product                143\n",
      "Year                     3\n",
      "Quarter                 10\n",
      "Revenue              60405\n",
      "Quantity              5586\n",
      "Gross margin         25164\n",
      "dtype: int64\n"
     ]
    }
   ],
   "source": [
    "print(data.nunique())"
   ]
  },
  {
   "cell_type": "code",
   "execution_count": 14,
   "metadata": {},
   "outputs": [
    {
     "name": "stdout",
     "output_type": "stream",
     "text": [
      "Retailer country      object\n",
      "Order method type     object\n",
      "Retailer type         object\n",
      "Product line          object\n",
      "Product type          object\n",
      "Product               object\n",
      "Year                   int64\n",
      "Quarter               object\n",
      "Revenue              float64\n",
      "Quantity               int64\n",
      "Gross margin         float64\n",
      "dtype: object\n"
     ]
    }
   ],
   "source": [
    "print(data.dtypes)"
   ]
  },
  {
   "cell_type": "code",
   "execution_count": null,
   "metadata": {},
   "outputs": [
    {
     "name": "stdout",
     "output_type": "stream",
     "text": [
      "USA            5743\n",
      "France         5177\n",
      "Germany        4886\n",
      "Canada         4811\n",
      "Japan          4755\n",
      "UK             4528\n",
      "Netherlands    3818\n",
      "Switzerland    3725\n",
      "Italy          3642\n",
      "Austria        3516\n",
      "Mexico         3480\n",
      "Belgium        3392\n",
      "Australia      3328\n",
      "China          3320\n",
      "Spain          3250\n",
      "Singapore      3119\n",
      "Finland        3117\n",
      "Poland         3070\n",
      "Brazil         2975\n",
      "Sweden         2683\n",
      "Denmark        2140\n",
      "Name: Retailer country, dtype: int64\n",
      "...\n",
      "Web            63008\n",
      "Sales visit     6247\n",
      "Telephone       4348\n",
      "E-mail          2355\n",
      "Fax             1404\n",
      "Mail             763\n",
      "Special          350\n",
      "Name: Order method type, dtype: int64\n",
      "...\n",
      "Outdoors Shop             22494\n",
      "Sports Store              18012\n",
      "Department Store          16252\n",
      "Golf Shop                  7719\n",
      "Eyewear Store              5128\n",
      "Warehouse Store            4570\n",
      "Direct Marketing           2859\n",
      "Equipment Rental Store     1441\n",
      "Name: Retailer type, dtype: int64\n",
      "...\n",
      "Personal Accessories        34908\n",
      "Camping Equipment           22059\n",
      "Outdoor Protection           7676\n",
      "Mountaineering Equipment     7026\n",
      "Golf Equipment               6806\n",
      "Name: Product line, dtype: int64\n",
      "...\n",
      "Eyewear                 13641\n",
      "Watches                  9616\n",
      "Lanterns                 6234\n",
      "Cooking Gear             5669\n",
      "Navigation               4265\n",
      "Knives                   3976\n",
      "Sleeping Bags            3679\n",
      "Binoculars               3410\n",
      "Tents                    3261\n",
      "Packs                    3216\n",
      "Sunscreen                2778\n",
      "First Aid                2472\n",
      "Insect Repellents        2426\n",
      "Climbing Accessories     2371\n",
      "Tools                    1962\n",
      "Golf Accessories         1899\n",
      "Irons                    1790\n",
      "Woods                    1772\n",
      "Rope                     1355\n",
      "Putters                  1345\n",
      "Safety                   1338\n",
      "Name: Product type, dtype: int64\n",
      "...\n",
      "Polar Sun                1109\n",
      "Zone                      984\n",
      "TX                        982\n",
      "Infinity                  972\n",
      "Inferno                   969\n",
      "                         ... \n",
      "Husky Harness Extreme     324\n",
      "Trail Scout               321\n",
      "Granite Ice               320\n",
      "Granite Extreme           306\n",
      "Trail Master               69\n",
      "Name: Product, Length: 143, dtype: int64\n",
      "...\n",
      "2013    33023\n",
      "2012    24128\n",
      "2014    21324\n",
      "Name: Year, dtype: int64\n",
      "...\n",
      "Q3 2012    8548\n",
      "Q3 2013    8466\n",
      "Q1 2013    8446\n",
      "Q1 2014    8383\n",
      "Q2 2013    8243\n",
      "Q4 2012    8161\n",
      "Q2 2014    8140\n",
      "Q4 2013    7868\n",
      "Q2 2012    7419\n",
      "Q3 2014    4801\n",
      "Name: Quarter, dtype: int64\n",
      "...\n",
      "0.00        544\n",
      "2076.20      17\n",
      "1650.00      17\n",
      "570.00       16\n",
      "1825.25      16\n",
      "           ... \n",
      "20627.10      1\n",
      "32078.24      1\n",
      "16840.88      1\n",
      "48883.10      1\n",
      "58775.15      1\n",
      "Name: Revenue, Length: 60405, dtype: int64\n"
     ]
    }
   ],
   "source": [
    "for column in data:\n",
    "    print(data[column].value_counts())\n",
    "    input(\"...\")"
   ]
  },
  {
   "cell_type": "code",
   "execution_count": 10,
   "metadata": {},
   "outputs": [
    {
     "name": "stdout",
     "output_type": "stream",
     "text": [
      "['Retailer country' 'Order method type' 'Retailer type' 'Product line'\n",
      " 'Product type' 'Product' 'Year' 'Quarter' 'Revenue' 'Quantity'\n",
      " 'Gross margin']\n"
     ]
    }
   ],
   "source": [
    "print(data.columns.values)\n"
   ]
  }
 ],
 "metadata": {
  "kernelspec": {
   "display_name": "Python 3",
   "language": "python",
   "name": "python3"
  },
  "language_info": {
   "codemirror_mode": {
    "name": "ipython",
    "version": 3
   },
   "file_extension": ".py",
   "mimetype": "text/x-python",
   "name": "python",
   "nbconvert_exporter": "python",
   "pygments_lexer": "ipython3",
   "version": "3.8.3"
  }
 },
 "nbformat": 4,
 "nbformat_minor": 2
}
